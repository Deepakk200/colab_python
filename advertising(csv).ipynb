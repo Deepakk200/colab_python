{
  "nbformat": 4,
  "nbformat_minor": 0,
  "metadata": {
    "colab": {
      "provenance": [],
      "mount_file_id": "1Lw5jJ_xF4Y9kjlxPhckIrG4VN0IpzWPK",
      "authorship_tag": "ABX9TyMOwzKYyxAtA88do9lT2d4/",
      "include_colab_link": true
    },
    "kernelspec": {
      "name": "python3",
      "display_name": "Python 3"
    },
    "language_info": {
      "name": "python"
    }
  },
  "cells": [
    {
      "cell_type": "markdown",
      "metadata": {
        "id": "view-in-github",
        "colab_type": "text"
      },
      "source": [
        "<a href=\"https://colab.research.google.com/github/Deepakk200/colab_python/blob/main/advertising(csv).ipynb\" target=\"_parent\"><img src=\"https://colab.research.google.com/assets/colab-badge.svg\" alt=\"Open In Colab\"/></a>"
      ]
    },
    {
      "cell_type": "code",
      "source": [
        "!pip install matplotlib\n",
        "!pip install numpy"
      ],
      "metadata": {
        "id": "C0g0LhBvOzxw"
      },
      "execution_count": null,
      "outputs": []
    },
    {
      "cell_type": "code",
      "execution_count": 8,
      "metadata": {
        "id": "-gzjvPWTNMJw"
      },
      "outputs": [],
      "source": [
        "import pandas as pd\n",
        "import numpy as np\n",
        "from sklearn.neighbors import KNeighborsRegressor\n",
        "from sklearn.model_selection import train_test_split\n",
        "import matplotlib.pyplot as plt\n",
        "%matplotlib inline\n"
      ]
    },
    {
      "cell_type": "code",
      "source": [
        "path = \"/content/drive/MyDrive/datasets/Advertising.csv\"\n",
        "df = pd.read_csv(path)\n",
        "df.head(9)"
      ],
      "metadata": {
        "id": "dIUj2S9FNMnh"
      },
      "execution_count": null,
      "outputs": []
    },
    {
      "cell_type": "code",
      "source": [
        "# Use a scatter plot for plotting a graph of TV vs Sales\n",
        "plt.scatter(df['TV'], df['Sales'])\n",
        "\n",
        "# Add axis labels for clarity (x : TV budget, y : Sales)\n",
        "plt.xlabel('TV')\n",
        "plt.ylabel('Sales')\n",
        "\n",
        "# Add plot title\n",
        "plt.title('TV Budget vs Sales')\n",
        "\n",
        "# Display the plot\n",
        "plt.show()"
      ],
      "metadata": {
        "id": "DcXw6nsSOobm"
      },
      "execution_count": null,
      "outputs": []
    },
    {
      "cell_type": "code",
      "source": [
        "!wget https://raw.githubusercontent.com/akjadon/Data/master/advertising.csv"
      ],
      "metadata": {
        "id": "QOAEDYuUhWwQ"
      },
      "execution_count": null,
      "outputs": []
    },
    {
      "cell_type": "code",
      "source": [
        "df_adv = pd.read_csv(path)\n",
        "# Get a subset of the data i.e. rows 5 to 13\n",
        "# Use the TV column as the predictor\n",
        "x_true = df_adv.TV.iloc[5:13]\n",
        "# print(\"x - values\\n\",x_true)\n",
        "# Use the Sales column as the response\n",
        "y_true = df_adv.Sales.iloc[5:13]\n",
        "# print(\"y - values\\n\", y_true)\n",
        "# Sort the data to get indices ordered from lowest to highest TV values\n",
        "idx = np.argsort(x_true).values\n",
        "print(\"sorted the values and given the order : \",idx)\n",
        "# Get the predictor data in the order given by idx above\n",
        "x_true  = x_true.iloc[idx].values\n",
        "print(\"values after the sorting : \",x_true)\n",
        "# Get the response data in the order given by idx above\n",
        "y_true  = y_true.iloc[idx].values\n",
        "print(\"values after the sorting : \",y_true)\n",
        "# Define a function that finds the index of the nearest neighbor\n",
        "# and returns the value of the nearest neighbor.\n",
        "# Note that this is just for k = 1 where the distance function is\n",
        "# simply the absolute value.\n",
        "def find_nearest(array, value):\n",
        "   idx = pd.Series(np.abs(array - value )).idxmin()\n",
        "   return idx ,array[idx]"
      ],
      "metadata": {
        "id": "mwI7iW8xPC2F",
        "colab": {
          "base_uri": "https://localhost:8080/"
        },
        "outputId": "55613e65-bb34-44c1-ba63-ce6d2f779d0a"
      },
      "execution_count": 35,
      "outputs": [
        {
          "output_type": "stream",
          "name": "stdout",
          "text": [
            "sorted the values and given the order :  [3 0 7 1 5 2 4 6]\n",
            "values after the sorting :  [  8.6   8.7  23.8  57.5  66.1 120.2 199.8 214.7]\n",
            "values after the sorting :  [ 4.8  7.2  9.2 11.8  8.6 13.2 10.6 17.4]\n"
          ]
        }
      ]
    }
  ]
}